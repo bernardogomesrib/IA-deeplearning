{
 "cells": [
  {
   "cell_type": "code",
   "execution_count": 13,
   "metadata": {},
   "outputs": [
    {
     "name": "stdout",
     "output_type": "stream",
     "text": [
      "2.9.3\n",
      "1.1.2\n"
     ]
    }
   ],
   "source": [
    "import tensorflow as tf\n",
    "import keras_preprocessing\n",
    "print(tf.__version__)\n",
    "print(keras_preprocessing.__version__)"
   ]
  },
  {
   "cell_type": "code",
   "execution_count": 2,
   "metadata": {},
   "outputs": [
    {
     "name": "stdout",
     "output_type": "stream",
     "text": [
      "Num GPUs Available:  1\n",
      "tf.Tensor(\n",
      "[[1. 3.]\n",
      " [3. 7.]], shape=(2, 2), dtype=float32)\n"
     ]
    }
   ],
   "source": [
    "import tensorflow as tf\n",
    "\n",
    "# Verificar se a GPU está disponível\n",
    "print(\"Num GPUs Available: \", len(tf.config.list_physical_devices('GPU')))\n",
    "\n",
    "# Criar um tensor simples\n",
    "with tf.device('/GPU:0'):\n",
    "    a = tf.constant([[1.0, 2.0], [3.0, 4.0]])\n",
    "    b = tf.constant([[1.0, 1.0], [0.0, 1.0]])\n",
    "    c = tf.matmul(a, b)\n",
    "\n",
    "print(c)\n"
   ]
  },
  {
   "cell_type": "code",
   "execution_count": 36,
   "metadata": {},
   "outputs": [
    {
     "name": "stdout",
     "output_type": "stream",
     "text": [
      "(1821, 4)\n",
      "(1456, 4)\n",
      "(365, 4)\n"
     ]
    }
   ],
   "source": [
    "\n",
    "import tensorflow as tf\n",
    "import keras_preprocessing\n",
    "from tensorflow.keras.preprocessing.image import load_img\n",
    "from keras_preprocessing import image\n",
    "from keras_preprocessing.image import ImageDataGenerator\n",
    "from sklearn.model_selection import train_test_split\n",
    "import numpy as np # linear algebra\n",
    "import pandas as pd # data processing, CSV file I/O (e.g. pd.read_csv)\n",
    "import os\n",
    "tf.config.run_functions_eagerly(True)\n",
    "df = pd.read_csv(\"train.csv\", index_col=0)\n",
    "print(df.shape)\n",
    "df.head()\n",
    "\n",
    "\n",
    "train_set, valid_set = train_test_split(df, test_size=0.2, random_state=42)\n",
    "\n",
    "print(train_set.shape)\n",
    "print(valid_set.shape)\n",
    "SOURCE = 'images/train'\n",
    "VALID_DIR = 'temp/valid/'\n",
    "TRAIN_DIR = 'temp/train/'"
   ]
  },
  {
   "cell_type": "code",
   "execution_count": 4,
   "metadata": {},
   "outputs": [],
   "source": [
    "\n",
    "import os\n",
    "import shutil\n",
    "\n",
    "# Mudar o diretório de trabalho\n",
    "os.chdir('e:/gitHub2/IA-deeplearning/plant-pathology')\n",
    "\n",
    "# Deletar o diretório temporário, se existir\n",
    "if os.path.exists('temp'):\n",
    "    shutil.rmtree('temp')\n",
    "\n",
    "# Criar o diretório temporário\n",
    "os.mkdir('temp')\n",
    "\n",
    "# Criar subdiretórios para treinamento\n",
    "os.mkdir('temp/train')\n",
    "os.mkdir('temp/train/healthy')\n",
    "os.mkdir('temp/train/multiple_diseases')\n",
    "os.mkdir('temp/train/rust')\n",
    "os.mkdir('temp/train/scab')\n",
    "\n",
    "# Criar subdiretórios para validação\n",
    "os.mkdir('temp/valid')\n",
    "os.mkdir('temp/valid/healthy')\n",
    "os.mkdir('temp/valid/multiple_diseases')\n",
    "os.mkdir('temp/valid/rust')\n",
    "os.mkdir('temp/valid/scab')"
   ]
  },
  {
   "cell_type": "code",
   "execution_count": 5,
   "metadata": {},
   "outputs": [
    {
     "name": "stdout",
     "output_type": "stream",
     "text": [
      "healthy 100\n",
      "multiple_diseases 18\n",
      "rust 120\n",
      "scab 127\n",
      "healthy 416\n",
      "multiple_diseases 73\n",
      "rust 502\n",
      "scab 465\n"
     ]
    }
   ],
   "source": [
    "# copy images to train directory\n",
    "from shutil import copyfile\n",
    "\n",
    "# copy images to valid directory\n",
    "for index, data in valid_set.iterrows():\n",
    "    label = df.columns[np.argmax(data)]\n",
    "    filepath = os.path.join(SOURCE, index + \".jpg\")\n",
    "    destination = os.path.join(VALID_DIR, label, index + \".jpg\")\n",
    "    copyfile(filepath, destination)\n",
    "    \n",
    "for subdir in os.listdir(VALID_DIR):\n",
    "    print(subdir, len(os.listdir(os.path.join(VALID_DIR, subdir))))\n",
    "\n",
    "\n",
    "# copy images to train directory\n",
    "for index, data in train_set.iterrows():\n",
    "    label = df.columns[np.argmax(data)]\n",
    "    filepath = os.path.join(SOURCE, index + \".jpg\")\n",
    "    destination = os.path.join(TRAIN_DIR, label, index + \".jpg\")\n",
    "    copyfile(filepath, destination)\n",
    "    \n",
    "for subdir in os.listdir(TRAIN_DIR):\n",
    "    print(subdir, len(os.listdir(os.path.join(TRAIN_DIR, subdir))))\n",
    "\n",
    "healthy_dir = os.path.join(TRAIN_DIR, 'healthy')\n",
    "mdiseases_dir = os.path.join(TRAIN_DIR, 'multiple_diseases')\n",
    "scab_dir = os.path.join(TRAIN_DIR, 'scab')\n",
    "rust_dir = os.path.join(TRAIN_DIR, 'rust')\n",
    "\n",
    "healthy_files = os.listdir(healthy_dir)\n",
    "mdiseases_files = os.listdir(mdiseases_dir)\n",
    "scab_files = os.listdir(scab_dir)\n",
    "rust_files = os.listdir(rust_dir) \n"
   ]
  },
  {
   "cell_type": "code",
   "execution_count": 37,
   "metadata": {},
   "outputs": [
    {
     "name": "stdout",
     "output_type": "stream",
     "text": [
      "Found 1456 images belonging to 4 classes.\n",
      "Found 365 images belonging to 4 classes.\n",
      "Model: \"sequential_8\"\n",
      "_________________________________________________________________\n",
      " Layer (type)                Output Shape              Param #   \n",
      "=================================================================\n",
      " conv2d_32 (Conv2D)          (None, 223, 148, 64)      1792      \n",
      "                                                                 \n",
      " max_pooling2d_32 (MaxPoolin  (None, 111, 74, 64)      0         \n",
      " g2D)                                                            \n",
      "                                                                 \n",
      " conv2d_33 (Conv2D)          (None, 109, 72, 64)       36928     \n",
      "                                                                 \n",
      " max_pooling2d_33 (MaxPoolin  (None, 54, 36, 64)       0         \n",
      " g2D)                                                            \n",
      "                                                                 \n",
      " conv2d_34 (Conv2D)          (None, 52, 34, 128)       73856     \n",
      "                                                                 \n",
      " max_pooling2d_34 (MaxPoolin  (None, 26, 17, 128)      0         \n",
      " g2D)                                                            \n",
      "                                                                 \n",
      " conv2d_35 (Conv2D)          (None, 24, 15, 128)       147584    \n",
      "                                                                 \n",
      " max_pooling2d_35 (MaxPoolin  (None, 12, 7, 128)       0         \n",
      " g2D)                                                            \n",
      "                                                                 \n",
      " flatten_8 (Flatten)         (None, 10752)             0         \n",
      "                                                                 \n",
      " dropout_8 (Dropout)         (None, 10752)             0         \n",
      "                                                                 \n",
      " dense_16 (Dense)            (None, 512)               5505536   \n",
      "                                                                 \n",
      " dense_17 (Dense)            (None, 4)                 2052      \n",
      "                                                                 \n",
      "=================================================================\n",
      "Total params: 5,767,748\n",
      "Trainable params: 5,767,748\n",
      "Non-trainable params: 0\n",
      "_________________________________________________________________\n"
     ]
    },
    {
     "data": {
      "text/plain": [
       "\"\\n\\nmodel = tf.keras.models.Sequential([\\n    tf.keras.layers.Conv2D(64, (3,3), activation='relu', input_shape=(170, 150, 3)),\\n    tf.keras.layers.MaxPooling2D(2, 2),\\n    tf.keras.layers.Conv2D(64, (3,3), activation='relu'),\\n    tf.keras.layers.MaxPooling2D(2,2),\\n    tf.keras.layers.Conv2D(128, (3,3), activation='relu'),\\n    tf.keras.layers.MaxPooling2D(2,2),\\n    tf.keras.layers.Conv2D(128, (3,3), activation='relu'),\\n    tf.keras.layers.MaxPooling2D(2,2),\\n    tf.keras.layers.Conv2D(256, (3,3), activation='sigmoid'),\\n    tf.keras.layers.MaxPooling2D(2,2),\\n    tf.keras.layers.Conv2D(256, (3,3), activation='tanh'),\\n    tf.keras.layers.Flatten(),\\n    tf.keras.layers.Dropout(0.5),\\n    tf.keras.layers.Dense(512, activation='relu'),\\n    tf.keras.layers.Dense(4, activation='softmax')\\n])\\n\\nmodel.summary()\\n\\n\""
      ]
     },
     "execution_count": 37,
     "metadata": {},
     "output_type": "execute_result"
    }
   ],
   "source": [
    "import tensorflow as tf\n",
    "from tensorflow.keras.preprocessing.image import ImageDataGenerator\n",
    "\n",
    "SOURCE = 'images/train'\n",
    "VALID_DIR = 'temp/valid/'\n",
    "TRAIN_DIR = 'temp/train/'\n",
    "\n",
    "training_datagen = ImageDataGenerator(rescale = 1./255,\n",
    "                                      rotation_range=40,\n",
    "                                      width_shift_range=0.2,\n",
    "                                      height_shift_range=0.2,\n",
    "                                      shear_range=0.2,\n",
    "                                      zoom_range=0.2,\n",
    "                                      horizontal_flip=True,\n",
    "                                      fill_mode='nearest')\n",
    "\n",
    "validation_datagen = ImageDataGenerator(rescale=1./255)\n",
    "\n",
    "train_generator = training_datagen.flow_from_directory(TRAIN_DIR, target_size=(225, 150), class_mode='categorical')\n",
    "validation_generator = validation_datagen.flow_from_directory(VALID_DIR, target_size=(225, 150), class_mode='categorical')\n",
    "\n",
    "model = tf.keras.models.Sequential([\n",
    "tf.keras.layers.Conv2D(64, (3,3), activation='relu', input_shape=(225, 150, 4)),\n",
    "    tf.keras.layers.MaxPooling2D(2, 2),\n",
    "    tf.keras.layers.Conv2D(64, (3,3), activation='relu'),\n",
    "    tf.keras.layers.MaxPooling2D(2,2),\n",
    "    tf.keras.layers.Conv2D(128, (3,3), activation='relu'),\n",
    "    tf.keras.layers.MaxPooling2D(2,2),\n",
    "    tf.keras.layers.Conv2D(128, (3,3), activation='relu'),\n",
    "    tf.keras.layers.MaxPooling2D(2,2),\n",
    "    tf.keras.layers.Flatten(),\n",
    "    tf.keras.layers.Dropout(0.5),\n",
    "    tf.keras.layers.Dense(512, activation='relu'),\n",
    "    tf.keras.layers.Dense(4, activation='softmax')\n",
    "])\n",
    "\n",
    "model.summary()\n",
    "\n",
    "\"\"\"\n",
    "    tf.keras.layers.Conv2D(64, (3,3), activation='relu', input_shape=(170, 150, 3)),\n",
    "    tf.keras.layers.Conv2D(128, (3,3), activation='relu'),\n",
    "    tf.keras.layers.Conv2D(256, (3,3), activation='sigmoid'),\n",
    "    tf.keras.layers.Conv2D(256, (3,3), activation='tanh'),\n",
    "    tf.keras.layers.Dense(4, activation='softmax')\n",
    "\"\"\"\n"
   ]
  },
  {
   "cell_type": "code",
   "execution_count": 38,
   "metadata": {},
   "outputs": [
    {
     "name": "stdout",
     "output_type": "stream",
     "text": [
      "Num GPUs Available:  1\n",
      "nome da gpu /device:GPU:0\n",
      "True\n",
      "steps_per_epoch 46\n",
      "validation_steps 11\n",
      "temp/train/ temp/valid/\n",
      "Epoch 1/50\n"
     ]
    },
    {
     "name": "stderr",
     "output_type": "stream",
     "text": [
      "c:\\Users\\berna\\anaconda3\\envs\\tf2\\lib\\site-packages\\tensorflow\\python\\data\\ops\\structured_function.py:264: UserWarning: Even though the `tf.config.experimental_run_functions_eagerly` option is set, this option does not apply to tf.data functions. To force eager execution of tf.data functions, please use `tf.data.experimental.enable_debug_mode()`.\n",
      "  warnings.warn(\n"
     ]
    },
    {
     "name": "stdout",
     "output_type": "stream",
     "text": [
      "46/46 [==============================] - 56s 1s/step - loss: 1.3720 - accuracy: 0.3228 - val_loss: 1.2442 - val_accuracy: 0.3438\n",
      "Epoch 2/50\n",
      "46/46 [==============================] - 54s 1s/step - loss: 1.2688 - accuracy: 0.3077 - val_loss: 1.2545 - val_accuracy: 0.3352\n",
      "Epoch 3/50\n",
      "46/46 [==============================] - 56s 1s/step - loss: 1.2694 - accuracy: 0.3571 - val_loss: 1.2489 - val_accuracy: 0.3239\n",
      "Epoch 4/50\n",
      "46/46 [==============================] - 59s 1s/step - loss: 1.2271 - accuracy: 0.3922 - val_loss: 1.1768 - val_accuracy: 0.5426\n",
      "Epoch 5/50\n",
      "46/46 [==============================] - 56s 1s/step - loss: 1.1489 - accuracy: 0.5213 - val_loss: 0.8601 - val_accuracy: 0.6818\n",
      "Epoch 6/50\n",
      "46/46 [==============================] - 56s 1s/step - loss: 0.9916 - accuracy: 0.6051 - val_loss: 0.7899 - val_accuracy: 0.7102\n",
      "Epoch 7/50\n",
      "46/46 [==============================] - 54s 1s/step - loss: 0.8813 - accuracy: 0.6449 - val_loss: 0.7538 - val_accuracy: 0.6705\n",
      "Epoch 8/50\n",
      "46/46 [==============================] - 55s 1s/step - loss: 0.8192 - accuracy: 0.6710 - val_loss: 0.7413 - val_accuracy: 0.6506\n",
      "Epoch 9/50\n",
      "46/46 [==============================] - 54s 1s/step - loss: 0.7770 - accuracy: 0.6964 - val_loss: 0.7127 - val_accuracy: 0.6790\n",
      "Epoch 10/50\n",
      "46/46 [==============================] - 55s 1s/step - loss: 0.7602 - accuracy: 0.7005 - val_loss: 1.3405 - val_accuracy: 0.5682\n",
      "Epoch 11/50\n",
      "22/46 [=============>................] - ETA: 24s - loss: 0.7318 - accuracy: 0.6861"
     ]
    }
   ],
   "source": [
    "\n",
    "# Compilar o modelo\n",
    "\n",
    "model.compile(loss='categorical_crossentropy', optimizer='rmsprop', metrics=['accuracy'], run_eagerly=True)\n",
    "\n",
    "# Callbacks\n",
    "early_stopping_cb = tf.keras.callbacks.EarlyStopping(patience=7)\n",
    "checkpoint_cb = tf.keras.callbacks.ModelCheckpoint(\"cnngpu.keras\", save_best_only=True)\n",
    "checkpoint_loss = tf.keras.callbacks.ModelCheckpoint(filepath='best_model_loss.keras', save_best_only=True, monitor='val_loss', mode='min')\n",
    "checkpoint_accuracy = tf.keras.callbacks.ModelCheckpoint(filepath='best_model_accuracy.keras', save_best_only=True, monitor='val_accuracy', mode='max')\n",
    "\n",
    "\n",
    "\n",
    "# Calcular steps_per_epoch e validation_steps\n",
    "batch_size = 31\n",
    "steps_per_epoch = train_generator.samples // batch_size\n",
    "validation_steps = validation_generator.samples // batch_size\n",
    "\n",
    "print(\"Num GPUs Available: \", len(tf.config.list_physical_devices('GPU')))\n",
    "print(\"nome da gpu\", tf.test.gpu_device_name())\n",
    "print(tf.test.is_gpu_available())\n",
    "print(\"steps_per_epoch\", steps_per_epoch)\n",
    "print(\"validation_steps\", validation_steps)\n",
    "\n",
    "print(TRAIN_DIR, VALID_DIR)\n",
    "# Verificar se os generators têm pelo menos um lote de dados\n",
    "if train_generator is not None and validation_generator is not None:\n",
    "    if len(train_generator) > 0 and len(validation_generator) > 0:\n",
    "        # forçar a execução na gpu\n",
    "        with tf.device('/device:GPU:0'):\n",
    "            history = model.fit(\n",
    "                train_generator,\n",
    "                epochs=50,\n",
    "                steps_per_epoch=steps_per_epoch,\n",
    "                validation_data=validation_generator,\n",
    "                validation_steps=validation_steps,\n",
    "                callbacks=[early_stopping_cb,checkpoint_cb,checkpoint_accuracy,checkpoint_loss],\n",
    "                verbose=1\n",
    "            )\n",
    "    else:\n",
    "        print(\"Error: The generators do not have any data.\")\n",
    "else:\n",
    "    print(\"Error: One of the generators is None.\")\n"
   ]
  },
  {
   "cell_type": "code",
   "execution_count": 31,
   "metadata": {},
   "outputs": [
    {
     "data": {
      "image/png": "[encoded data removed]",
      "text/plain": [
       "<Figure size 640x480 with 1 Axes>"
      ]
     },
     "metadata": {},
     "output_type": "display_data"
    }
   ],
   "source": [
    "import matplotlib.pyplot as plt\n",
    "acc = history.history['accuracy']\n",
    "val_acc = history.history['val_accuracy']\n",
    "loss = history.history['loss']\n",
    "val_loss = history.history['val_loss']\n",
    "\n",
    "epochs = range(len(acc))\n",
    "\n",
    "plt.plot(epochs, val_acc, 'r', label='val_accuracy')\n",
    "plt.plot(epochs, acc, 'b', label='val_loss')\n",
    "plt.title('Training and validation accuracy')\n",
    "plt.legend(loc=0)\n",
    "plt.show()"
   ]
  },
  {
   "cell_type": "code",
   "execution_count": 11,
   "metadata": {},
   "outputs": [
    {
     "ename": "ImportError",
     "evalue": "Could not import PIL.Image. The use of `load_img` requires PIL.",
     "output_type": "error",
     "traceback": [
      "\u001b[1;31m---------------------------------------------------------------------------\u001b[0m",
      "\u001b[1;31mImportError\u001b[0m                               Traceback (most recent call last)",
      "Cell \u001b[1;32mIn[11], line 20\u001b[0m\n\u001b[0;32m     18\u001b[0m \u001b[38;5;66;03m# Testar diferentes batch sizes\u001b[39;00m\n\u001b[0;32m     19\u001b[0m \u001b[38;5;28;01mfor\u001b[39;00m batch_size \u001b[38;5;129;01min\u001b[39;00m [ \u001b[38;5;241m256\u001b[39m, \u001b[38;5;241m512\u001b[39m, \u001b[38;5;241m1024\u001b[39m]:\n\u001b[1;32m---> 20\u001b[0m     \u001b[43mtest_batch_size\u001b[49m\u001b[43m(\u001b[49m\u001b[43mbatch_size\u001b[49m\u001b[43m)\u001b[49m\n",
      "Cell \u001b[1;32mIn[11], line 6\u001b[0m, in \u001b[0;36mtest_batch_size\u001b[1;34m(batch_size)\u001b[0m\n\u001b[0;32m      3\u001b[0m \u001b[38;5;28;01mdef\u001b[39;00m \u001b[38;5;21mtest_batch_size\u001b[39m(batch_size):\n\u001b[0;32m      5\u001b[0m     \u001b[38;5;28;01mtry\u001b[39;00m:\n\u001b[1;32m----> 6\u001b[0m         \u001b[43mmodel\u001b[49m\u001b[38;5;241;43m.\u001b[39;49m\u001b[43mfit\u001b[49m\u001b[43m(\u001b[49m\n\u001b[0;32m      7\u001b[0m \u001b[43m            \u001b[49m\u001b[43mtrain_generator\u001b[49m\u001b[43m,\u001b[49m\n\u001b[0;32m      8\u001b[0m \u001b[43m            \u001b[49m\u001b[43mepochs\u001b[49m\u001b[38;5;241;43m=\u001b[39;49m\u001b[38;5;241;43m1\u001b[39;49m\u001b[43m,\u001b[49m\n\u001b[0;32m      9\u001b[0m \u001b[43m            \u001b[49m\u001b[43msteps_per_epoch\u001b[49m\u001b[38;5;241;43m=\u001b[39;49m\u001b[38;5;28;43mlen\u001b[39;49m\u001b[43m(\u001b[49m\u001b[43mtrain_generator\u001b[49m\u001b[43m)\u001b[49m\u001b[43m \u001b[49m\u001b[38;5;241;43m/\u001b[39;49m\u001b[38;5;241;43m/\u001b[39;49m\u001b[43m \u001b[49m\u001b[43mbatch_size\u001b[49m\u001b[43m,\u001b[49m\n\u001b[0;32m     10\u001b[0m \u001b[43m            \u001b[49m\u001b[43mvalidation_data\u001b[49m\u001b[38;5;241;43m=\u001b[39;49m\u001b[43mvalidation_generator\u001b[49m\u001b[43m,\u001b[49m\n\u001b[0;32m     11\u001b[0m \u001b[43m            \u001b[49m\u001b[43mvalidation_steps\u001b[49m\u001b[38;5;241;43m=\u001b[39;49m\u001b[38;5;28;43mlen\u001b[39;49m\u001b[43m(\u001b[49m\u001b[43mvalidation_generator\u001b[49m\u001b[43m)\u001b[49m\u001b[43m \u001b[49m\u001b[38;5;241;43m/\u001b[39;49m\u001b[38;5;241;43m/\u001b[39;49m\u001b[43m \u001b[49m\u001b[43mbatch_size\u001b[49m\u001b[43m,\u001b[49m\n\u001b[0;32m     12\u001b[0m \u001b[43m            \u001b[49m\u001b[43mbatch_size\u001b[49m\u001b[38;5;241;43m=\u001b[39;49m\u001b[43mbatch_size\u001b[49m\n\u001b[0;32m     13\u001b[0m \u001b[43m        \u001b[49m\u001b[43m)\u001b[49m\n\u001b[0;32m     14\u001b[0m         \u001b[38;5;28mprint\u001b[39m(\u001b[38;5;124mf\u001b[39m\u001b[38;5;124m\"\u001b[39m\u001b[38;5;124mBatch size \u001b[39m\u001b[38;5;132;01m{\u001b[39;00mbatch_size\u001b[38;5;132;01m}\u001b[39;00m\u001b[38;5;124m funciona!\u001b[39m\u001b[38;5;124m\"\u001b[39m)\n\u001b[0;32m     15\u001b[0m     \u001b[38;5;28;01mexcept\u001b[39;00m tf\u001b[38;5;241m.\u001b[39merrors\u001b[38;5;241m.\u001b[39mResourceExhaustedError:\n",
      "File \u001b[1;32mc:\\Users\\berna\\anaconda3\\envs\\tfg\\lib\\site-packages\\keras\\utils\\traceback_utils.py:70\u001b[0m, in \u001b[0;36mfilter_traceback.<locals>.error_handler\u001b[1;34m(*args, **kwargs)\u001b[0m\n\u001b[0;32m     67\u001b[0m     filtered_tb \u001b[38;5;241m=\u001b[39m _process_traceback_frames(e\u001b[38;5;241m.\u001b[39m__traceback__)\n\u001b[0;32m     68\u001b[0m     \u001b[38;5;66;03m# To get the full stack trace, call:\u001b[39;00m\n\u001b[0;32m     69\u001b[0m     \u001b[38;5;66;03m# `tf.debugging.disable_traceback_filtering()`\u001b[39;00m\n\u001b[1;32m---> 70\u001b[0m     \u001b[38;5;28;01mraise\u001b[39;00m e\u001b[38;5;241m.\u001b[39mwith_traceback(filtered_tb) \u001b[38;5;28;01mfrom\u001b[39;00m \u001b[38;5;28;01mNone\u001b[39;00m\n\u001b[0;32m     71\u001b[0m \u001b[38;5;28;01mfinally\u001b[39;00m:\n\u001b[0;32m     72\u001b[0m     \u001b[38;5;28;01mdel\u001b[39;00m filtered_tb\n",
      "File \u001b[1;32mc:\\Users\\berna\\anaconda3\\envs\\tfg\\lib\\site-packages\\keras_preprocessing\\image\\utils.py:111\u001b[0m, in \u001b[0;36mload_img\u001b[1;34m(path, grayscale, color_mode, target_size, interpolation)\u001b[0m\n\u001b[0;32m    109\u001b[0m     color_mode \u001b[38;5;241m=\u001b[39m \u001b[38;5;124m'\u001b[39m\u001b[38;5;124mgrayscale\u001b[39m\u001b[38;5;124m'\u001b[39m\n\u001b[0;32m    110\u001b[0m \u001b[38;5;28;01mif\u001b[39;00m pil_image \u001b[38;5;129;01mis\u001b[39;00m \u001b[38;5;28;01mNone\u001b[39;00m:\n\u001b[1;32m--> 111\u001b[0m     \u001b[38;5;28;01mraise\u001b[39;00m \u001b[38;5;167;01mImportError\u001b[39;00m(\u001b[38;5;124m'\u001b[39m\u001b[38;5;124mCould not import PIL.Image. \u001b[39m\u001b[38;5;124m'\u001b[39m\n\u001b[0;32m    112\u001b[0m                       \u001b[38;5;124m'\u001b[39m\u001b[38;5;124mThe use of `load_img` requires PIL.\u001b[39m\u001b[38;5;124m'\u001b[39m)\n\u001b[0;32m    113\u001b[0m \u001b[38;5;28;01mwith\u001b[39;00m \u001b[38;5;28mopen\u001b[39m(path, \u001b[38;5;124m'\u001b[39m\u001b[38;5;124mrb\u001b[39m\u001b[38;5;124m'\u001b[39m) \u001b[38;5;28;01mas\u001b[39;00m f:\n\u001b[0;32m    114\u001b[0m     img \u001b[38;5;241m=\u001b[39m pil_image\u001b[38;5;241m.\u001b[39mopen(io\u001b[38;5;241m.\u001b[39mBytesIO(f\u001b[38;5;241m.\u001b[39mread()))\n",
      "\u001b[1;31mImportError\u001b[0m: Could not import PIL.Image. The use of `load_img` requires PIL."
     ]
    }
   ],
   "source": [
    "\n",
    "# Função para testar diferentes batch sizes\n",
    "\n",
    "def test_batch_size(batch_size):\n",
    "  \n",
    "    try:\n",
    "        model.fit(\n",
    "            train_generator,\n",
    "            epochs=1,\n",
    "            steps_per_epoch=len(train_generator) // batch_size,\n",
    "            validation_data=validation_generator,\n",
    "            validation_steps=len(validation_generator) // batch_size,\n",
    "            batch_size=batch_size\n",
    "        )\n",
    "        print(f\"Batch size {batch_size} funciona!\")\n",
    "    except tf.errors.ResourceExhaustedError:\n",
    "        print(f\"Batch size {batch_size} é muito grande para a memória da GPU.\")\n",
    "\n",
    "# Testar diferentes batch sizes\n",
    "for batch_size in [ 256, 512, 1024]:\n",
    "    test_batch_size(batch_size)"
   ]
  },
  {
   "cell_type": "code",
   "execution_count": 12,
   "metadata": {},
   "outputs": [
    {
     "ename": "ModuleNotFoundError",
     "evalue": "No module named 'PIL'",
     "output_type": "error",
     "traceback": [
      "\u001b[1;31m---------------------------------------------------------------------------\u001b[0m",
      "\u001b[1;31mModuleNotFoundError\u001b[0m                       Traceback (most recent call last)",
      "Cell \u001b[1;32mIn[12], line 1\u001b[0m\n\u001b[1;32m----> 1\u001b[0m \u001b[38;5;28;01mimport\u001b[39;00m \u001b[38;5;21;01mPIL\u001b[39;00m\n\u001b[0;32m      2\u001b[0m \u001b[38;5;28mprint\u001b[39m(PIL\u001b[38;5;241m.\u001b[39m__version__)\n",
      "\u001b[1;31mModuleNotFoundError\u001b[0m: No module named 'PIL'"
     ]
    }
   ],
   "source": [
    "import PIL\n",
    "print(PIL.__version__)\n"
   ]
  },
  {
   "cell_type": "code",
   "execution_count": 8,
   "metadata": {},
   "outputs": [
    {
     "name": "stdout",
     "output_type": "stream",
     "text": [
      "# packages in environment at C:\\Users\\berna\\anaconda3\\envs\\tf2:\n",
      "#\n",
      "# Name                    Version                   Build  Channel\n",
      "absl-py                   2.1.0                    pypi_0    pypi\n",
      "asgiref                   3.8.1                    pypi_0    pypi\n",
      "asttokens                 2.4.1                    pypi_0    pypi\n",
      "astunparse                1.6.3                    pypi_0    pypi\n",
      "blas                      1.0                         mkl  \n",
      "bottleneck                1.3.7            py39h9128911_0  \n",
      "ca-certificates           2024.7.4             h56e8100_0    conda-forge\n",
      "cachetools                5.5.0                    pypi_0    pypi\n",
      "certifi                   2024.7.4                 pypi_0    pypi\n",
      "charset-normalizer        3.3.2                    pypi_0    pypi\n",
      "colorama                  0.4.6                    pypi_0    pypi\n",
      "comm                      0.2.2                    pypi_0    pypi\n",
      "contourpy                 1.3.0                    pypi_0    pypi\n",
      "cudatoolkit               11.2.2              h7d7167e_13    conda-forge\n",
      "cudnn                     8.1.0.77             h3e0f4f4_0    conda-forge\n",
      "cycler                    0.12.1                   pypi_0    pypi\n",
      "debugpy                   1.8.5                    pypi_0    pypi\n",
      "decorator                 5.1.1                    pypi_0    pypi\n",
      "django                    4.2.15                   pypi_0    pypi\n",
      "exceptiongroup            1.2.2                    pypi_0    pypi\n",
      "executing                 2.0.1                    pypi_0    pypi\n",
      "flatbuffers               1.12                     pypi_0    pypi\n",
      "fonttools                 4.53.1                   pypi_0    pypi\n",
      "gast                      0.4.0                    pypi_0    pypi\n",
      "google-auth               2.34.0                   pypi_0    pypi\n",
      "google-auth-oauthlib      0.4.6                    pypi_0    pypi\n",
      "google-pasta              0.2.0                    pypi_0    pypi\n",
      "grpcio                    1.66.0                   pypi_0    pypi\n",
      "h5py                      3.11.0                   pypi_0    pypi\n",
      "icc_rt                    2022.1.0             h6049295_2  \n",
      "idna                      3.8                      pypi_0    pypi\n",
      "image                     1.5.33                   pypi_0    pypi\n",
      "importlib-metadata        8.4.0                    pypi_0    pypi\n",
      "importlib-resources       6.4.4                    pypi_0    pypi\n",
      "intel-openmp              2023.1.0         h59b6b97_46320  \n",
      "ipykernel                 6.29.5                   pypi_0    pypi\n",
      "ipython                   8.18.1                   pypi_0    pypi\n",
      "jedi                      0.19.1                   pypi_0    pypi\n",
      "joblib                    1.4.2            py39haa95532_0  \n",
      "jupyter-client            8.6.2                    pypi_0    pypi\n",
      "jupyter-core              5.7.2                    pypi_0    pypi\n",
      "keras                     3.5.0                    pypi_0    pypi\n",
      "keras-nightly             3.4.1.dev2024080903          pypi_0    pypi\n",
      "keras-preprocessing       1.1.2                    pypi_0    pypi\n",
      "kiwisolver                1.4.5                    pypi_0    pypi\n",
      "libclang                  18.1.1                   pypi_0    pypi\n",
      "llvmlite                  0.43.0                   pypi_0    pypi\n",
      "markdown                  3.7                      pypi_0    pypi\n",
      "markdown-it-py            3.0.0                    pypi_0    pypi\n",
      "markupsafe                2.1.5                    pypi_0    pypi\n",
      "matplotlib                3.9.2                    pypi_0    pypi\n",
      "matplotlib-inline         0.1.7                    pypi_0    pypi\n",
      "mdurl                     0.1.2                    pypi_0    pypi\n",
      "mkl                       2023.1.0         h6b88ed4_46358  \n",
      "mkl-service               2.4.0            py39h2bbff1b_1  \n",
      "mkl_fft                   1.3.8            py39h2bbff1b_0  \n",
      "mkl_random                1.2.4            py39h59b6b97_0  \n",
      "ml-dtypes                 0.3.2                    pypi_0    pypi\n",
      "namex                     0.0.8                    pypi_0    pypi\n",
      "nest-asyncio              1.6.0                    pypi_0    pypi\n",
      "numba                     0.60.0                   pypi_0    pypi\n",
      "numexpr                   2.8.7            py39h2cd9be0_0  \n",
      "numpy                     1.26.3                   pypi_0    pypi\n",
      "oauthlib                  3.2.2                    pypi_0    pypi\n",
      "openssl                   3.3.1                h2466b09_3    conda-forge\n",
      "opt-einsum                3.3.0                    pypi_0    pypi\n",
      "optree                    0.12.1                   pypi_0    pypi\n",
      "packaging                 24.1                     pypi_0    pypi\n",
      "pandas                    2.2.2                    pypi_0    pypi\n",
      "parso                     0.8.4                    pypi_0    pypi\n",
      "pillow                    10.4.0                   pypi_0    pypi\n",
      "pip                       24.2             py39haa95532_0  \n",
      "pipdeptree                2.23.1                   pypi_0    pypi\n",
      "platformdirs              4.2.2                    pypi_0    pypi\n",
      "prompt-toolkit            3.0.47                   pypi_0    pypi\n",
      "protobuf                  4.25.4                   pypi_0    pypi\n",
      "psutil                    6.0.0                    pypi_0    pypi\n",
      "pure-eval                 0.2.3                    pypi_0    pypi\n",
      "pyasn1                    0.6.0                    pypi_0    pypi\n",
      "pyasn1-modules            0.4.0                    pypi_0    pypi\n",
      "pybind11-abi              5                    hd3eb1b0_0  \n",
      "pygments                  2.18.0                   pypi_0    pypi\n",
      "pyparsing                 3.1.4                    pypi_0    pypi\n",
      "python                    3.9.19               h1aa4202_1  \n",
      "python-dateutil           2.9.0post0       py39haa95532_2  \n",
      "python-tzdata             2023.3             pyhd3eb1b0_0  \n",
      "pytz                      2024.1           py39haa95532_0  \n",
      "pywin32                   306                      pypi_0    pypi\n",
      "pyzmq                     26.2.0                   pypi_0    pypi\n",
      "requests                  2.32.3                   pypi_0    pypi\n",
      "requests-oauthlib         2.0.0                    pypi_0    pypi\n",
      "rich                      13.8.0                   pypi_0    pypi\n",
      "rsa                       4.9                      pypi_0    pypi\n",
      "scikit-learn              1.5.1                    pypi_0    pypi\n",
      "scipy                     1.13.1           py39h8640f81_0  \n",
      "setuptools                72.1.0           py39haa95532_0  \n",
      "six                       1.15.0                   pypi_0    pypi\n",
      "sqlite                    3.45.3               h2bbff1b_0  \n",
      "sqlparse                  0.5.1                    pypi_0    pypi\n",
      "stack-data                0.6.3                    pypi_0    pypi\n",
      "tbb                       2021.8.0             h59b6b97_0  \n",
      "tensorboard               2.9.1                    pypi_0    pypi\n",
      "tensorboard-data-server   0.7.2                    pypi_0    pypi\n",
      "tensorboard-plugin-wit    1.8.1                    pypi_0    pypi\n",
      "tensorflow                2.9.3                    pypi_0    pypi\n",
      "tensorflow-estimator      2.9.0                    pypi_0    pypi\n",
      "tensorflow-io-gcs-filesystem 0.31.0                   pypi_0    pypi\n",
      "termcolor                 1.1.0                    pypi_0    pypi\n",
      "threadpoolctl             3.5.0            py39h9909e9c_0  \n",
      "tornado                   6.4.1                    pypi_0    pypi\n",
      "traitlets                 5.14.3                   pypi_0    pypi\n",
      "typing-extensions         4.12.2                   pypi_0    pypi\n",
      "tzdata                    2024a                h04d1e81_0  \n",
      "ucrt                      10.0.22621.0         h57928b3_0    conda-forge\n",
      "urllib3                   2.2.2                    pypi_0    pypi\n",
      "vc                        14.40                h2eaa2aa_0  \n",
      "vc14_runtime              14.40.33810         hcc2c482_20    conda-forge\n",
      "vs2015_runtime            14.40.33810         h3bf8584_20    conda-forge\n",
      "wcwidth                   0.2.13                   pypi_0    pypi\n",
      "werkzeug                  3.0.4                    pypi_0    pypi\n",
      "wheel                     0.43.0           py39haa95532_0  \n",
      "wrapt                     1.12.1                   pypi_0    pypi\n",
      "zipp                      3.20.1                   pypi_0    pypi\n"
     ]
    }
   ],
   "source": [
    "! conda list"
   ]
  },
  {
   "cell_type": "code",
   "execution_count": null,
   "metadata": {},
   "outputs": [],
   "source": []
  }
 ],
 "metadata": {
  "kernelspec": {
   "display_name": "Python 3 (ipykernel)",
   "language": "python",
   "name": "python3"
  },
  "language_info": {
   "codemirror_mode": {
    "name": "ipython",
    "version": 3
   },
   "file_extension": ".py",
   "mimetype": "text/x-python",
   "name": "python",
   "nbconvert_exporter": "python",
   "pygments_lexer": "ipython3",
   "version": "3.9.19"
  }
 },
 "nbformat": 4,
 "nbformat_minor": 4
}
