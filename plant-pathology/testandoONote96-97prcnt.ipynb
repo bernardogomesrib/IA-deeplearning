{
 "cells": [
  {
   "cell_type": "code",
   "execution_count": null,
   "metadata": {},
   "outputs": [],
   "source": [
    "# LISTA ANTES DE INSTALAR O PYTORCH\n",
    "! conda install cudatoolkit cudnn pandas numpy matplotlib -y"
   ]
  },
  {
   "cell_type": "code",
   "execution_count": 2,
   "metadata": {},
   "outputs": [
    {
     "name": "stdout",
     "output_type": "stream",
     "text": [
      "# packages in environment at e:\\gitHub2\\IA-deeplearning\\plant-pathology\\.conda:\n",
      "#\n",
      "# Name                    Version                   Build  Channel\n",
      "asttokens                 2.4.1              pyhd8ed1ab_0    conda-forge\n",
      "backcall                  0.2.0              pyh9f0ad1d_0    conda-forge\n",
      "ca-certificates           2024.7.4             h56e8100_0    conda-forge\n",
      "colorama                  0.4.6              pyhd8ed1ab_0    conda-forge\n",
      "comm                      0.2.2              pyhd8ed1ab_0    conda-forge\n",
      "debugpy                   1.8.5            py38h2698bfa_0    conda-forge\n",
      "decorator                 5.1.1              pyhd8ed1ab_0    conda-forge\n",
      "executing                 2.0.1              pyhd8ed1ab_0    conda-forge\n",
      "importlib-metadata        8.4.0              pyha770c72_0    conda-forge\n",
      "importlib_metadata        8.4.0                hd8ed1ab_0    conda-forge\n",
      "ipykernel                 6.29.5             pyh4bbf305_0    conda-forge\n",
      "ipython                   8.12.2             pyh08f2357_0    conda-forge\n",
      "jedi                      0.19.1             pyhd8ed1ab_0    conda-forge\n",
      "jupyter_client            8.6.2              pyhd8ed1ab_0    conda-forge\n",
      "jupyter_core              5.7.2            py38haa244fe_0    conda-forge\n",
      "krb5                      1.21.3               hdf4eb48_0    conda-forge\n",
      "libffi                    3.4.4                hd77b12b_1  \n",
      "libsodium                 1.0.18               h8d14728_1    conda-forge\n",
      "matplotlib-inline         0.1.7              pyhd8ed1ab_0    conda-forge\n",
      "nest-asyncio              1.6.0              pyhd8ed1ab_0    conda-forge\n",
      "openssl                   3.3.1                h2466b09_3    conda-forge\n",
      "packaging                 24.1               pyhd8ed1ab_0    conda-forge\n",
      "parso                     0.8.4              pyhd8ed1ab_0    conda-forge\n",
      "pickleshare               0.7.5                   py_1003    conda-forge\n",
      "pip                       24.2             py38haa95532_0  \n",
      "platformdirs              4.2.2              pyhd8ed1ab_0    conda-forge\n",
      "prompt-toolkit            3.0.47             pyha770c72_0    conda-forge\n",
      "prompt_toolkit            3.0.47               hd8ed1ab_0    conda-forge\n",
      "psutil                    6.0.0            py38h4cb3324_0    conda-forge\n",
      "pure_eval                 0.2.3              pyhd8ed1ab_0    conda-forge\n",
      "pygments                  2.18.0             pyhd8ed1ab_0    conda-forge\n",
      "python                    3.8.19               h1aa4202_0  \n",
      "python-dateutil           2.9.0              pyhd8ed1ab_0    conda-forge\n",
      "python_abi                3.8                      2_cp38    conda-forge\n",
      "pywin32                   306              py38hd3f51b4_2    conda-forge\n",
      "pyzmq                     26.2.0           py38h3c56b06_0    conda-forge\n",
      "setuptools                72.1.0           py38haa95532_0  \n",
      "six                       1.16.0             pyh6c4a22f_0    conda-forge\n",
      "sqlite                    3.45.3               h2bbff1b_0  \n",
      "stack_data                0.6.2              pyhd8ed1ab_0    conda-forge\n",
      "tornado                   6.4.1            py38h4cb3324_0    conda-forge\n",
      "traitlets                 5.14.3             pyhd8ed1ab_0    conda-forge\n",
      "typing_extensions         4.12.2             pyha770c72_0    conda-forge\n",
      "ucrt                      10.0.22621.0         h57928b3_0    conda-forge\n",
      "vc                        14.40                h2eaa2aa_0  \n",
      "vc14_runtime              14.40.33810         hcc2c482_20    conda-forge\n",
      "vs2015_runtime            14.40.33810         h3bf8584_20    conda-forge\n",
      "wcwidth                   0.2.13             pyhd8ed1ab_0    conda-forge\n",
      "wheel                     0.43.0           py38haa95532_0  \n",
      "zeromq                    4.3.5                he1f189c_4    conda-forge\n",
      "zipp                      3.20.1             pyhd8ed1ab_0    conda-forge\n"
     ]
    }
   ],
   "source": [
    "# LISTA ANTES DE INSTALAR O PYTORCH\n",
    "! conda list \n"
   ]
  },
  {
   "cell_type": "code",
   "execution_count": 1,
   "metadata": {},
   "outputs": [
    {
     "name": "stdout",
     "output_type": "stream",
     "text": [
      "^C\n"
     ]
    }
   ],
   "source": [
    "! conda install pytorch torchvision torchaudio pytorch-cuda=11.8 -c pytorch -c nvidia -y"
   ]
  },
  {
   "cell_type": "code",
   "execution_count": null,
   "metadata": {},
   "outputs": [
    {
     "name": "stdout",
     "output_type": "stream",
     "text": [
      "# packages in environment at e:\\gitHub2\\IA-deeplearning\\plant-pathology\\.conda:\n",
      "#\n",
      "# Name                    Version                   Build  Channel\n",
      "asttokens                 2.4.1              pyhd8ed1ab_0    conda-forge\n",
      "blas                      1.0                         mkl  \n",
      "bottleneck                1.3.7           py311hd7041d2_0  \n",
      "brotli                    1.0.9                h2bbff1b_8  \n",
      "brotli-bin                1.0.9                h2bbff1b_8  \n",
      "bzip2                     1.0.8                h2bbff1b_6  \n",
      "ca-certificates           2024.7.4             h56e8100_0    conda-forge\n",
      "colorama                  0.4.6              pyhd8ed1ab_0    conda-forge\n",
      "comm                      0.2.2              pyhd8ed1ab_0    conda-forge\n",
      "contourpy                 1.2.0           py311h59b6b97_0  \n",
      "cudatoolkit               11.8.0               hd77b12b_0  \n",
      "cudnn                     8.9.2.26               cuda11_0  \n",
      "cycler                    0.11.0             pyhd3eb1b0_0  \n",
      "debugpy                   1.8.5           py311hda3d55a_0    conda-forge\n",
      "decorator                 5.1.1              pyhd8ed1ab_0    conda-forge\n",
      "exceptiongroup            1.2.2              pyhd8ed1ab_0    conda-forge\n",
      "executing                 2.0.1              pyhd8ed1ab_0    conda-forge\n",
      "filelock                  3.13.1                   pypi_0    pypi\n",
      "fonttools                 4.51.0          py311h2bbff1b_0  \n",
      "freetype                  2.12.1               ha860e81_0  \n",
      "fsspec                    2024.2.0                 pypi_0    pypi\n",
      "glib                      2.78.4               hd77b12b_0  \n",
      "glib-tools                2.78.4               hd77b12b_0  \n",
      "gst-plugins-base          1.18.5               h9e645db_0  \n",
      "gstreamer                 1.18.5               hd78058f_0  \n",
      "icu                       58.2                 ha925a31_3  \n",
      "importlib-metadata        8.4.0              pyha770c72_0    conda-forge\n",
      "importlib_metadata        8.4.0                hd8ed1ab_0    conda-forge\n",
      "intel-openmp              2023.1.0         h59b6b97_46320  \n",
      "ipykernel                 6.29.5             pyh4bbf305_0    conda-forge\n",
      "ipython                   8.26.0             pyh7428d3b_0    conda-forge\n",
      "jedi                      0.19.1             pyhd8ed1ab_0    conda-forge\n",
      "jinja2                    3.1.3                    pypi_0    pypi\n",
      "jpeg                      9e                   h827c3e9_3  \n",
      "jupyter_client            8.6.2              pyhd8ed1ab_0    conda-forge\n",
      "jupyter_core              5.7.2           py311h1ea47a8_0    conda-forge\n",
      "kiwisolver                1.4.4           py311hd77b12b_0  \n",
      "krb5                      1.21.3               hdf4eb48_0    conda-forge\n",
      "lcms2                     2.12                 h83e58a3_0  \n",
      "lerc                      3.0                  hd77b12b_0  \n",
      "libbrotlicommon           1.0.9                h2bbff1b_8  \n",
      "libbrotlidec              1.0.9                h2bbff1b_8  \n",
      "libbrotlienc              1.0.9                h2bbff1b_8  \n",
      "libclang                  12.0.0          default_h627e005_2  \n",
      "libdeflate                1.17                 h2bbff1b_1  \n",
      "libffi                    3.4.4                hd77b12b_1  \n",
      "libglib                   2.78.4               ha17d25a_0  \n",
      "libiconv                  1.16                 h2bbff1b_3  \n",
      "libogg                    1.3.5                h2bbff1b_1  \n",
      "libpng                    1.6.39               h8cc25b3_0  \n",
      "libsodium                 1.0.18               h8d14728_1    conda-forge\n",
      "libtiff                   4.5.1                hd77b12b_0  \n",
      "libvorbis                 1.3.7                he774522_0  \n",
      "libwebp-base              1.3.2                h2bbff1b_0  \n",
      "lz4-c                     1.9.4                h2bbff1b_1  \n",
      "markupsafe                2.1.5                    pypi_0    pypi\n",
      "matplotlib                3.8.4           py311haa95532_0  \n",
      "matplotlib-base           3.8.4           py311hf62ec03_0  \n",
      "matplotlib-inline         0.1.7              pyhd8ed1ab_0    conda-forge\n",
      "mkl                       2023.1.0         h6b88ed4_46358  \n",
      "mkl-service               2.4.0           py311h2bbff1b_1  \n",
      "mkl_fft                   1.3.8           py311h2bbff1b_0  \n",
      "mkl_random                1.2.4           py311h59b6b97_0  \n",
      "mpmath                    1.3.0                    pypi_0    pypi\n",
      "nest-asyncio              1.6.0              pyhd8ed1ab_0    conda-forge\n",
      "networkx                  3.2.1                    pypi_0    pypi\n",
      "numexpr                   2.8.7           py311h1fcbade_0  \n",
      "numpy                     1.26.4          py311hdab7c0b_0  \n",
      "numpy-base                1.26.4          py311hd01c5d8_0  \n",
      "openjpeg                  2.5.2                hae555c5_0  \n",
      "openssl                   3.3.1                h2466b09_3    conda-forge\n",
      "packaging                 24.1               pyhd8ed1ab_0    conda-forge\n",
      "pandas                    2.2.2           py311hea22821_0  \n",
      "parso                     0.8.4              pyhd8ed1ab_0    conda-forge\n",
      "pcre2                     10.42                h0ff8eda_1  \n",
      "pickleshare               0.7.5                   py_1003    conda-forge\n",
      "pillow                    10.4.0          py311h827c3e9_0  \n",
      "pip                       24.2            py311haa95532_0  \n",
      "platformdirs              4.2.2              pyhd8ed1ab_0    conda-forge\n",
      "ply                       3.11            py311haa95532_0  \n",
      "prompt-toolkit            3.0.47             pyha770c72_0    conda-forge\n",
      "psutil                    6.0.0           py311he736701_0    conda-forge\n",
      "pure_eval                 0.2.3              pyhd8ed1ab_0    conda-forge\n",
      "pygments                  2.18.0             pyhd8ed1ab_0    conda-forge\n",
      "pyparsing                 3.0.9           py311haa95532_0  \n",
      "pyqt                      5.15.10         py311hd77b12b_0  \n",
      "pyqt5-sip                 12.13.0         py311h2bbff1b_0  \n",
      "python                    3.11.9               he1021f5_0  \n",
      "python-dateutil           2.9.0              pyhd8ed1ab_0    conda-forge\n",
      "python-tzdata             2023.3             pyhd3eb1b0_0  \n",
      "python_abi                3.11                    2_cp311    conda-forge\n",
      "pytz                      2024.1          py311haa95532_0  \n",
      "pywin32                   306             py311h12c1d0e_2    conda-forge\n",
      "pyzmq                     26.2.0          py311h484c95c_0    conda-forge\n",
      "qt-main                   5.15.2               he8e5bd7_7  \n",
      "setuptools                72.1.0          py311haa95532_0  \n",
      "sip                       6.7.12          py311hd77b12b_0  \n",
      "six                       1.16.0             pyh6c4a22f_0    conda-forge\n",
      "sqlite                    3.45.3               h2bbff1b_0  \n",
      "stack_data                0.6.2              pyhd8ed1ab_0    conda-forge\n",
      "sympy                     1.12                     pypi_0    pypi\n",
      "tbb                       2021.8.0             h59b6b97_0  \n",
      "tk                        8.6.14               h0416ee5_0  \n",
      "torch                     2.4.0+cu118              pypi_0    pypi\n",
      "torchaudio                2.4.0+cu118              pypi_0    pypi\n",
      "torchvision               0.19.0+cu118             pypi_0    pypi\n",
      "tornado                   6.4.1           py311he736701_1    conda-forge\n",
      "traitlets                 5.14.3             pyhd8ed1ab_0    conda-forge\n",
      "typing_extensions         4.12.2             pyha770c72_0    conda-forge\n",
      "tzdata                    2024a                h04d1e81_0  \n",
      "ucrt                      10.0.22621.0         h57928b3_0    conda-forge\n",
      "unicodedata2              15.1.0          py311h2bbff1b_0  \n",
      "vc                        14.40                h2eaa2aa_0  \n",
      "vc14_runtime              14.40.33810         hcc2c482_20    conda-forge\n",
      "vs2015_runtime            14.40.33810         h3bf8584_20    conda-forge\n",
      "wcwidth                   0.2.13             pyhd8ed1ab_0    conda-forge\n",
      "wheel                     0.43.0          py311haa95532_0  \n",
      "xz                        5.4.6                h8cc25b3_1  \n",
      "zeromq                    4.3.5                he1f189c_4    conda-forge\n",
      "zipp                      3.20.1             pyhd8ed1ab_0    conda-forge\n",
      "zlib                      1.2.13               h8cc25b3_1  \n",
      "zstd                      1.5.5                hd43e919_2  \n"
     ]
    },
    {
     "ename": "",
     "evalue": "",
     "output_type": "error",
     "traceback": [
      "\u001b[1;31mnotebook controller is DISPOSED. \n",
      "\u001b[1;31mConsulte o <a href='command:jupyter.viewOutput'>log</a> do Jupyter para obter mais detalhes."
     ]
    },
    {
     "ename": "",
     "evalue": "",
     "output_type": "error",
     "traceback": [
      "\u001b[1;31mnotebook controller is DISPOSED. \n",
      "\u001b[1;31mConsulte o <a href='command:jupyter.viewOutput'>log</a> do Jupyter para obter mais detalhes."
     ]
    }
   ],
   "source": [
    "# LISTA DEPOIS DE INSTALAR O PYTORCH\n",
    "! conda list"
   ]
  },
  {
   "cell_type": "code",
   "execution_count": 6,
   "metadata": {},
   "outputs": [
    {
     "data": {
      "text/plain": [
       "((1821, 5), (1821, 1))"
      ]
     },
     "execution_count": 6,
     "metadata": {},
     "output_type": "execute_result"
    }
   ],
   "source": [
    "import pandas as pd\n",
    "train = pd.read_csv('train.csv')\n",
    "test = pd.read_csv('test.csv')\n",
    "submission = pd.read_csv('sample_submission.csv')\n",
    "train.shape, test.shape"
   ]
  },
  {
   "cell_type": "code",
   "execution_count": 1,
   "metadata": {},
   "outputs": [
    {
     "ename": "OSError",
     "evalue": "[WinError 126] Não foi possível encontrar o módulo especificado. Error loading \"e:\\gitHub2\\IA-deeplearning\\plant-pathology\\.conda\\Lib\\site-packages\\torch\\lib\\fbgemm.dll\" or one of its dependencies.",
     "output_type": "error",
     "traceback": [
      "\u001b[1;31m---------------------------------------------------------------------------\u001b[0m",
      "\u001b[1;31mOSError\u001b[0m                                   Traceback (most recent call last)",
      "Cell \u001b[1;32mIn[1], line 1\u001b[0m\n\u001b[1;32m----> 1\u001b[0m \u001b[38;5;28;01mimport\u001b[39;00m \u001b[38;5;21;01mtorch\u001b[39;00m\n\u001b[0;32m      2\u001b[0m \u001b[38;5;28;01mimport\u001b[39;00m \u001b[38;5;21;01mrandom\u001b[39;00m\n\u001b[0;32m      3\u001b[0m \u001b[38;5;28;01mimport\u001b[39;00m \u001b[38;5;21;01mnumpy\u001b[39;00m \u001b[38;5;28;01mas\u001b[39;00m \u001b[38;5;21;01mnp\u001b[39;00m\n",
      "File \u001b[1;32me:\\gitHub2\\IA-deeplearning\\plant-pathology\\.conda\\Lib\\site-packages\\torch\\__init__.py:148\u001b[0m\n\u001b[0;32m    146\u001b[0m                 err \u001b[38;5;241m=\u001b[39m ctypes\u001b[38;5;241m.\u001b[39mWinError(ctypes\u001b[38;5;241m.\u001b[39mget_last_error())\n\u001b[0;32m    147\u001b[0m                 err\u001b[38;5;241m.\u001b[39mstrerror \u001b[38;5;241m+\u001b[39m\u001b[38;5;241m=\u001b[39m \u001b[38;5;124mf\u001b[39m\u001b[38;5;124m'\u001b[39m\u001b[38;5;124m Error loading \u001b[39m\u001b[38;5;124m\"\u001b[39m\u001b[38;5;132;01m{\u001b[39;00mdll\u001b[38;5;132;01m}\u001b[39;00m\u001b[38;5;124m\"\u001b[39m\u001b[38;5;124m or one of its dependencies.\u001b[39m\u001b[38;5;124m'\u001b[39m\n\u001b[1;32m--> 148\u001b[0m                 \u001b[38;5;28;01mraise\u001b[39;00m err\n\u001b[0;32m    150\u001b[0m     kernel32\u001b[38;5;241m.\u001b[39mSetErrorMode(prev_error_mode)\n\u001b[0;32m    153\u001b[0m \u001b[38;5;28;01mdef\u001b[39;00m \u001b[38;5;21m_preload_cuda_deps\u001b[39m(lib_folder, lib_name):\n",
      "\u001b[1;31mOSError\u001b[0m: [WinError 126] Não foi possível encontrar o módulo especificado. Error loading \"e:\\gitHub2\\IA-deeplearning\\plant-pathology\\.conda\\Lib\\site-packages\\torch\\lib\\fbgemm.dll\" or one of its dependencies."
     ]
    }
   ],
   "source": [
    "import torch\n",
    "import random\n",
    "import numpy as np\n",
    "import os\n",
    "\n",
    "\n",
    "seed = 50\n",
    "os.environ['PYTHONHASHSEED'] = str(seed)\n",
    "random.seed(seed)\n",
    "np.random.seed(seed)\n",
    "torch.manual_seed(seed)\n",
    "torch.cuda.manual_seed(seed)\n",
    "torch.cuda.manual_seed_all(seed)\n",
    "torch.backends.cudnn.deterministic = True\n",
    "torch.backends.cudnn.benchmark = False\n",
    "torch.backends.cudnn.enabled = False"
   ]
  },
  {
   "cell_type": "code",
   "execution_count": 8,
   "metadata": {},
   "outputs": [
    {
     "ename": "NameError",
     "evalue": "name 'torch' is not defined",
     "output_type": "error",
     "traceback": [
      "\u001b[1;31m---------------------------------------------------------------------------\u001b[0m",
      "\u001b[1;31mNameError\u001b[0m                                 Traceback (most recent call last)",
      "Cell \u001b[1;32mIn[8], line 1\u001b[0m\n\u001b[1;32m----> 1\u001b[0m device \u001b[38;5;241m=\u001b[39m \u001b[43mtorch\u001b[49m\u001b[38;5;241m.\u001b[39mdevice(\u001b[38;5;124m'\u001b[39m\u001b[38;5;124mcuda\u001b[39m\u001b[38;5;124m'\u001b[39m \u001b[38;5;28;01mif\u001b[39;00m torch\u001b[38;5;241m.\u001b[39mcuda\u001b[38;5;241m.\u001b[39mis_available() \u001b[38;5;28;01melse\u001b[39;00m \u001b[38;5;124m'\u001b[39m\u001b[38;5;124mcpu\u001b[39m\u001b[38;5;124m'\u001b[39m)\n\u001b[0;32m      3\u001b[0m device\n",
      "\u001b[1;31mNameError\u001b[0m: name 'torch' is not defined"
     ]
    }
   ],
   "source": [
    "device = torch.device('cuda' if torch.cuda.is_available() else 'cpu')\n",
    "\n",
    "device"
   ]
  },
  {
   "cell_type": "code",
   "execution_count": null,
   "metadata": {},
   "outputs": [],
   "source": [
    "import pandas as pd\n",
    "\n",
    "# 데이터 경로\n",
    "data_path = '/kaggle/input/plant-pathology-2020-fgvc7/'\n",
    "\n",
    "train = pd.read_csv(data_path + 'train.csv')\n",
    "test = pd.read_csv(data_path + 'test.csv')\n",
    "submission = pd.read_csv(data_path + 'sample_submission.csv')"
   ]
  },
  {
   "cell_type": "code",
   "execution_count": null,
   "metadata": {},
   "outputs": [],
   "source": []
  },
  {
   "cell_type": "code",
   "execution_count": null,
   "metadata": {},
   "outputs": [],
   "source": []
  },
  {
   "cell_type": "code",
   "execution_count": null,
   "metadata": {},
   "outputs": [],
   "source": []
  },
  {
   "cell_type": "code",
   "execution_count": null,
   "metadata": {},
   "outputs": [],
   "source": []
  }
 ],
 "metadata": {
  "kernelspec": {
   "display_name": "tf2",
   "language": "python",
   "name": "python3"
  },
  "language_info": {
   "codemirror_mode": {
    "name": "ipython",
    "version": 3
   },
   "file_extension": ".py",
   "mimetype": "text/x-python",
   "name": "python",
   "nbconvert_exporter": "python",
   "pygments_lexer": "ipython3",
   "version": "3.8.19"
  }
 },
 "nbformat": 4,
 "nbformat_minor": 2
}
